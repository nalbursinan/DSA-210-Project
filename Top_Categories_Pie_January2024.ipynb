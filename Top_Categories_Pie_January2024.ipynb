{
 "cells": [
  {
   "cell_type": "code",
   "execution_count": null,
   "id": "36066768",
   "metadata": {},
   "outputs": [],
   "source": [
    "\n",
    "# Pie Chart: Top Categories by Sales Quantity – January 2024\n",
    "\n",
    "import pandas as pd\n",
    "import matplotlib.pyplot as plt\n",
    "import seaborn as sns\n",
    "\n",
    "# Load the cleaned January dataset\n",
    "df = pd.read_excel(\"UrunBazli_0124_Temizlenmis_FinalTemiz.xlsx\")\n",
    "\n",
    "# Group by category and calculate total sales quantity\n",
    "category_sales = df.groupby(\"Kategori\")[\"Net Sats Adedi\"].sum().sort_values(ascending=False)\n",
    "\n",
    "# Select top 10 and group the rest as \"Other\"\n",
    "top10 = category_sales.head(10)\n",
    "other = category_sales.iloc[10:].sum()\n",
    "if other > 0:\n",
    "    top10[\"Other\"] = other\n",
    "\n",
    "# Plot pie chart\n",
    "colors = sns.color_palette(\"bright\", len(top10))\n",
    "plt.figure(figsize=(7, 7))\n",
    "plt.pie(top10, labels=top10.index, autopct='%1.1f%%', startangle=140, colors=colors)\n",
    "plt.title(\"Top Categories by Sales Quantity – January 2024\", fontsize=14)\n",
    "plt.axis('equal')\n",
    "plt.tight_layout()\n",
    "plt.show()\n"
   ]
  }
 ],
 "metadata": {},
 "nbformat": 4,
 "nbformat_minor": 5
}
