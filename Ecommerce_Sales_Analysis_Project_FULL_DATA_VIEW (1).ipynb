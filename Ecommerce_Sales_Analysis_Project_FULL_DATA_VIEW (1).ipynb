{
 "cells": [
  {
   "cell_type": "markdown",
   "id": "ac2b4ec8",
   "metadata": {},
   "source": [
    "# 📈 E-commerce Sales Data – Full Year Overview"
   ]
  },
  {
   "cell_type": "code",
   "execution_count": null,
   "id": "45a7c715",
   "metadata": {},
   "outputs": [],
   "source": [
    "\n",
    "import pandas as pd\n",
    "import os\n",
    "\n",
    "file_paths = [\n",
    "    \"/mnt/data/UrunBazli_0124_Temizlenmis_FinalTemiz.xlsx\",\n",
    "    \"/mnt/data/UrunBazli_0224_Temizlenmis_FinalTemiz.xlsx\",\n",
    "    \"/mnt/data/UrunBazli_0324_Temizlenmis_FinalTemiz.xlsx\",\n",
    "    \"/mnt/data/UrunBazli_0524_Temizlenmis_FinalTemiz.xlsx\",\n",
    "    \"/mnt/data/UrunBazli_0624_Temizlenmis_FinalTemiz.xlsx\",\n",
    "    \"/mnt/data/UrunBazli_0724_Temizlenmis_FinalTemiz.xlsx\",\n",
    "    \"/mnt/data/UrunBazli_0824_Temizlenmis_FinalTemiz.xlsx\",\n",
    "    \"/mnt/data/UrunBazli_0924_Temizlenmis_FinalTemiz.xlsx\",\n",
    "    \"/mnt/data/UrunBazli_1024_Temizlenmis_FinalTemiz.xlsx\",\n",
    "    \"/mnt/data/UrunBazli_1124_Temizlenmis_FinalTemiz.xlsx\",\n",
    "    \"/mnt/data/UrunBazli_1224_Temizlenmis_FinalTemiz.xlsx\"\n",
    "]\n",
    "\n",
    "month_to_season = {\n",
    "    \"01\": \"Winter\", \"02\": \"Winter\", \"12\": \"Winter\",\n",
    "    \"03\": \"Spring\", \"04\": \"Spring\", \"05\": \"Spring\",\n",
    "    \"06\": \"Summer\", \"07\": \"Summer\", \"08\": \"Summer\",\n",
    "    \"09\": \"Autumn\", \"10\": \"Autumn\", \"11\": \"Autumn\"\n",
    "}\n",
    "\n",
    "dfs = []\n",
    "for path in file_paths:\n",
    "    df = pd.read_excel(path)\n",
    "    month = os.path.basename(path).split(\"_\")[1][:2]\n",
    "    df[\"Mevsim\"] = month_to_season[month]\n",
    "    dfs.append(df)\n",
    "\n",
    "df_12ay = pd.concat(dfs, ignore_index=True)\n",
    "display(df_12ay)\n"
   ]
  }
 ],
 "metadata": {},
 "nbformat": 4,
 "nbformat_minor": 5
}
