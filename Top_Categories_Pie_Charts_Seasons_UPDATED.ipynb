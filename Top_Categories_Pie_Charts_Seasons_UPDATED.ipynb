{
 "cells": [
  {
   "cell_type": "code",
   "execution_count": null,
   "id": "2674a8df",
   "metadata": {},
   "outputs": [],
   "source": [
    "\n",
    "import pandas as pd\n",
    "import matplotlib.pyplot as plt\n",
    "import seaborn as sns\n"
   ]
  },
  {
   "cell_type": "markdown",
   "id": "ad35fd68",
   "metadata": {},
   "source": [
    "## 🔵 Kış Sezonu – En Çok Satan 10 Kategori + Other"
   ]
  },
  {
   "cell_type": "code",
   "execution_count": null,
   "id": "3c9b4530",
   "metadata": {},
   "outputs": [],
   "source": [
    "files = ['UrunBazli_0124_Temizlenmis_FinalTemiz.xlsx',\n",
    "         'UrunBazli_0224_Temizlenmis_FinalTemiz.xlsx',\n",
    "         'UrunBazli_1224_Temizlenmis_FinalTemiz.xlsx']\n",
    "dfs = [pd.read_excel(f) for f in files]\n",
    "df = pd.concat(dfs, ignore_index=True)\n",
    "\n",
    "category_sales = df.groupby(\"Kategori\")[\"Net Sats Adedi\"].sum().sort_values(ascending=False)\n",
    "top10 = category_sales.head(10)\n",
    "other = category_sales.iloc[10:].sum()\n",
    "if other > 0:\n",
    "    top10[\"Other\"] = other\n",
    "\n",
    "base_colors = sns.color_palette(\"Set3\", len(top10) - 1)\n",
    "custom_colors = base_colors + [(0.0, 0.4, 0.0)]  # Koyu yeşil RGB for 'Other'\n",
    "\n",
    "labels = top10.index\n",
    "sizes = top10.values\n",
    "\n",
    "plt.figure(figsize=(7, 7))\n",
    "plt.pie(sizes, labels=labels, autopct='%1.1f%%', startangle=90, \n",
    "        colors=custom_colors, textprops={'fontsize': 10})\n",
    "plt.title(\"Top Categories by Sales Quantity – Kış\", fontsize=14)\n",
    "plt.axis('equal')\n",
    "plt.tight_layout()\n",
    "plt.show()"
   ]
  },
  {
   "cell_type": "markdown",
   "id": "7534853c",
   "metadata": {},
   "source": [
    "## 🔵 İlkbahar Sezonu – En Çok Satan 10 Kategori + Other"
   ]
  },
  {
   "cell_type": "code",
   "execution_count": null,
   "id": "ae39b81f",
   "metadata": {},
   "outputs": [],
   "source": [
    "files = ['UrunBazli_0324_Temizlenmis_FinalTemiz.xlsx',\n",
    "         'UrunBazli_0424_Temizlenmis_FinalTemiz.xlsx',\n",
    "         'UrunBazli_0524_Temizlenmis_FinalTemiz.xlsx']\n",
    "dfs = [pd.read_excel(f) for f in files]\n",
    "df = pd.concat(dfs, ignore_index=True)\n",
    "\n",
    "category_sales = df.groupby(\"Kategori\")[\"Net Sats Adedi\"].sum().sort_values(ascending=False)\n",
    "top10 = category_sales.head(10)\n",
    "other = category_sales.iloc[10:].sum()\n",
    "if other > 0:\n",
    "    top10[\"Other\"] = other\n",
    "\n",
    "base_colors = sns.color_palette(\"Set3\", len(top10) - 1)\n",
    "custom_colors = base_colors + [(0.0, 0.4, 0.0)]  # Koyu yeşil RGB for 'Other'\n",
    "\n",
    "labels = top10.index\n",
    "sizes = top10.values\n",
    "\n",
    "plt.figure(figsize=(7, 7))\n",
    "plt.pie(sizes, labels=labels, autopct='%1.1f%%', startangle=90, \n",
    "        colors=custom_colors, textprops={'fontsize': 10})\n",
    "plt.title(\"Top Categories by Sales Quantity – İlkbahar\", fontsize=14)\n",
    "plt.axis('equal')\n",
    "plt.tight_layout()\n",
    "plt.show()"
   ]
  },
  {
   "cell_type": "markdown",
   "id": "f961c501",
   "metadata": {},
   "source": [
    "## 🔵 Yaz Sezonu – En Çok Satan 10 Kategori + Other"
   ]
  },
  {
   "cell_type": "code",
   "execution_count": null,
   "id": "d867687e",
   "metadata": {},
   "outputs": [],
   "source": [
    "files = ['UrunBazli_0624_Temizlenmis_FinalTemiz.xlsx',\n",
    "         'UrunBazli_0724_Temizlenmis_FinalTemiz.xlsx',\n",
    "         'UrunBazli_0824_Temizlenmis_FinalTemiz.xlsx']\n",
    "dfs = [pd.read_excel(f) for f in files]\n",
    "df = pd.concat(dfs, ignore_index=True)\n",
    "\n",
    "category_sales = df.groupby(\"Kategori\")[\"Net Sats Adedi\"].sum().sort_values(ascending=False)\n",
    "top10 = category_sales.head(10)\n",
    "other = category_sales.iloc[10:].sum()\n",
    "if other > 0:\n",
    "    top10[\"Other\"] = other\n",
    "\n",
    "base_colors = sns.color_palette(\"Set3\", len(top10) - 1)\n",
    "custom_colors = base_colors + [(0.0, 0.4, 0.0)]  # Koyu yeşil RGB for 'Other'\n",
    "\n",
    "labels = top10.index\n",
    "sizes = top10.values\n",
    "\n",
    "plt.figure(figsize=(7, 7))\n",
    "plt.pie(sizes, labels=labels, autopct='%1.1f%%', startangle=90, \n",
    "        colors=custom_colors, textprops={'fontsize': 10})\n",
    "plt.title(\"Top Categories by Sales Quantity – Yaz\", fontsize=14)\n",
    "plt.axis('equal')\n",
    "plt.tight_layout()\n",
    "plt.show()"
   ]
  },
  {
   "cell_type": "markdown",
   "id": "b6572007",
   "metadata": {},
   "source": [
    "## 🔵 Sonbahar Sezonu – En Çok Satan 10 Kategori + Other"
   ]
  },
  {
   "cell_type": "code",
   "execution_count": null,
   "id": "cee059ce",
   "metadata": {},
   "outputs": [],
   "source": [
    "files = ['UrunBazli_0924_Temizlenmis_FinalTemiz.xlsx',\n",
    "         'UrunBazli_1024_Temizlenmis_FinalTemiz.xlsx',\n",
    "         'UrunBazli_1124_Temizlenmis_FinalTemiz.xlsx']\n",
    "dfs = [pd.read_excel(f) for f in files]\n",
    "df = pd.concat(dfs, ignore_index=True)\n",
    "\n",
    "category_sales = df.groupby(\"Kategori\")[\"Net Sats Adedi\"].sum().sort_values(ascending=False)\n",
    "top10 = category_sales.head(10)\n",
    "other = category_sales.iloc[10:].sum()\n",
    "if other > 0:\n",
    "    top10[\"Other\"] = other\n",
    "\n",
    "base_colors = sns.color_palette(\"Set3\", len(top10) - 1)\n",
    "custom_colors = base_colors + [(0.0, 0.4, 0.0)]  # Koyu yeşil RGB for 'Other'\n",
    "\n",
    "labels = top10.index\n",
    "sizes = top10.values\n",
    "\n",
    "plt.figure(figsize=(7, 7))\n",
    "plt.pie(sizes, labels=labels, autopct='%1.1f%%', startangle=90, \n",
    "        colors=custom_colors, textprops={'fontsize': 10})\n",
    "plt.title(\"Top Categories by Sales Quantity – Sonbahar\", fontsize=14)\n",
    "plt.axis('equal')\n",
    "plt.tight_layout()\n",
    "plt.show()"
   ]
  }
 ],
 "metadata": {
  "language_info": {
   "codemirror_mode": {
    "name": "ipython",
    "version": 3
   },
   "file_extension": ".py",
   "mimetype": "text/x-python",
   "name": "python",
   "nbconvert_exporter": "python",
   "pygments_lexer": "ipython3",
   "version": "3.11.8"
  }
 },
 "nbformat": 4,
 "nbformat_minor": 5
}